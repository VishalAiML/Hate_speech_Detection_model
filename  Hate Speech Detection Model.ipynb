{
 "cells": [
  {
   "cell_type": "markdown",
   "id": "612cc65a-9994-4071-81b1-df91338b6641",
   "metadata": {},
   "source": [
    "# Hate speech Detection Model"
   ]
  },
  {
   "cell_type": "code",
   "execution_count": 2,
   "id": "64ec7f06-da97-46b7-a31f-ba556dd1e7ce",
   "metadata": {},
   "outputs": [
    {
     "name": "stdout",
     "output_type": "stream",
     "text": [
      "Training Set: (31962, 3) 31962\n",
      "Test Set: (17197, 2) 17197\n"
     ]
    }
   ],
   "source": [
    "import pandas as pd \n",
    "train = pd.read_csv('hate speech/train.csv')\n",
    "print(\"Training Set:\"% train.columns, train.shape, len(train))\n",
    "test = pd.read_csv('hate speech/test.csv')\n",
    "print(\"Test Set:\"% test.columns, test.shape, len(test))"
   ]
  },
  {
   "cell_type": "markdown",
   "id": "9a569d77-e44a-4a4d-b43a-5325e04374c5",
   "metadata": {},
   "source": [
    "# Data Cleaning"
   ]
  },
  {
   "cell_type": "code",
   "execution_count": 3,
   "id": "99a584a5-36f0-4f25-bbee-b7c1d2f12498",
   "metadata": {},
   "outputs": [],
   "source": [
    "import re\n",
    "def  clean_text(df, text_field):\n",
    "    df[text_field] = df[text_field].str.lower()\n",
    "    df[text_field] = df[text_field].apply(lambda elem: re.sub(r\"(@[A-Za-z0-9]+)|([^0-9A-Za-z \\t])|(\\w+:\\/\\/\\S+)|^rt|http.+?\", \"\", elem))  \n",
    "    return df\n",
    "test_clean = clean_text(test, \"tweet\")\n",
    "train_clean = clean_text(train, \"tweet\")"
   ]
  },
  {
   "cell_type": "markdown",
   "id": "1b7bca02-2fdf-4e2a-9d6a-aa5d07980de7",
   "metadata": {},
   "source": [
    "# Handling Imbalanced data for Hate Speech Detection Model"
   ]
  },
  {
   "cell_type": "code",
   "execution_count": 4,
   "id": "9d0ff90d-1e21-43a2-9bb0-2b4eb0a96180",
   "metadata": {},
   "outputs": [
    {
     "data": {
      "text/plain": [
       "label\n",
       "1    29720\n",
       "0    29720\n",
       "Name: count, dtype: int64"
      ]
     },
     "execution_count": 4,
     "metadata": {},
     "output_type": "execute_result"
    }
   ],
   "source": [
    "from sklearn.utils import resample\n",
    "train_majority = train_clean[train_clean.label==0]\n",
    "train_minority = train_clean[train_clean.label==1]\n",
    "train_minority_upsampled = resample(train_minority, \n",
    "                                 replace=True,    \n",
    "                                 n_samples=len(train_majority),   \n",
    "                                 random_state=123)\n",
    "train_upsampled = pd.concat([train_minority_upsampled, train_majority])\n",
    "train_upsampled['label'].value_counts()"
   ]
  },
  {
   "cell_type": "markdown",
   "id": "9b46d6ea-191e-40c7-8574-9e3659b94862",
   "metadata": {},
   "source": [
    "# Creating a Pipeline\n",
    "\n",
    "\n",
    "**For simplicity and reproducibility of the hate speech detection model, I will use the Scikit-Learn’s pipeline with an SGDClassifier, before training our model:**"
   ]
  },
  {
   "cell_type": "code",
   "execution_count": 8,
   "id": "47fdca81-2903-459c-ad33-ed07ae6ab6ed",
   "metadata": {},
   "outputs": [],
   "source": [
    "from sklearn.feature_extraction.text import TfidfVectorizer\n",
    "from sklearn.pipeline import Pipeline\n",
    "from sklearn.feature_extraction.text import CountVectorizer\n",
    "from sklearn.feature_extraction.text import TfidfTransformer\n",
    "from sklearn.linear_model import SGDClassifier\n",
    "pipeline_sgd = Pipeline([\n",
    "    ('vect', CountVectorizer()),\n",
    "    ('tfidf',  TfidfTransformer()),\n",
    "    ('nb', SGDClassifier()),])"
   ]
  },
  {
   "cell_type": "markdown",
   "id": "1c6b3151-b483-4e88-a76d-d46fd33b08fb",
   "metadata": {},
   "source": [
    "# Training the Hate Speech Detection Model\n",
    "\n",
    "Now, before training the model, let’s split the data into a training set and a test set:"
   ]
  },
  {
   "cell_type": "code",
   "execution_count": 7,
   "id": "843885e7-8845-4da4-a844-90165456a254",
   "metadata": {},
   "outputs": [],
   "source": [
    "from sklearn.model_selection import train_test_split\n",
    "X_train, X_test, y_train, y_test = train_test_split(train_upsampled['tweet'],train_upsampled['label'],random_state = 0)"
   ]
  },
  {
   "cell_type": "markdown",
   "id": "8e0b612d-5112-4381-8aee-652f13e654bb",
   "metadata": {},
   "source": [
    " Now let’s train the model and predict the results on the test set using the F1 score method:"
   ]
  },
  {
   "cell_type": "code",
   "execution_count": 9,
   "id": "ade6efb5-0941-4fdd-8d69-eca11bb7e062",
   "metadata": {},
   "outputs": [
    {
     "data": {
      "text/plain": [
       "0.9696808156193776"
      ]
     },
     "execution_count": 9,
     "metadata": {},
     "output_type": "execute_result"
    }
   ],
   "source": [
    "model = pipeline_sgd.fit(X_train, y_train)\n",
    "y_predict = model.predict(X_test)\n",
    "from sklearn.metrics import f1_score\n",
    "f1_score(y_test, y_predict)"
   ]
  },
  {
   "cell_type": "code",
   "execution_count": null,
   "id": "740bb291-3a10-40ec-9983-b238bf2d4626",
   "metadata": {},
   "outputs": [],
   "source": []
  }
 ],
 "metadata": {
  "kernelspec": {
   "display_name": "Python 3 (ipykernel)",
   "language": "python",
   "name": "python3"
  },
  "language_info": {
   "codemirror_mode": {
    "name": "ipython",
    "version": 3
   },
   "file_extension": ".py",
   "mimetype": "text/x-python",
   "name": "python",
   "nbconvert_exporter": "python",
   "pygments_lexer": "ipython3",
   "version": "3.12.2"
  },
  "widgets": {
   "application/vnd.jupyter.widget-state+json": {
    "state": {},
    "version_major": 2,
    "version_minor": 0
   }
  }
 },
 "nbformat": 4,
 "nbformat_minor": 5
}
